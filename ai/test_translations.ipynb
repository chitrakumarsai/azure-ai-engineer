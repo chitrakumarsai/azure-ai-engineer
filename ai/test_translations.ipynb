{
 "cells": [
  {
   "cell_type": "markdown",
   "id": "4a435df3-155b-4144-88f0-7ca8eea318dd",
   "metadata": {},
   "source": [
    "# This attempt failed because API is still in preview"
   ]
  },
  {
   "cell_type": "code",
   "execution_count": 1,
   "id": "24088ab9-a2b1-4f9f-8b69-da71dac4281a",
   "metadata": {},
   "outputs": [],
   "source": [
    "# %pip install azure-ai-translation-text==1.0.0b1"
   ]
  },
  {
   "cell_type": "code",
   "execution_count": 3,
   "id": "a15a3883-7b36-40d8-bbed-e7bce7d13d4b",
   "metadata": {},
   "outputs": [],
   "source": [
    "from azure.core.credentials import AzureKeyCredential\n",
    "from azure.ai.translation.text import TextTranslationClient\n"
   ]
  },
  {
   "cell_type": "code",
   "execution_count": 4,
   "id": "a51b3f18-2f52-4469-a455-8c95c6f57835",
   "metadata": {},
   "outputs": [
    {
     "name": "stdout",
     "output_type": "stream",
     "text": [
      "Error Code: 400036\n",
      "Message: The target language is not valid.\n"
     ]
    }
   ],
   "source": [
    "from azure.ai.translation.text import TextTranslationClient, TranslatorCredential\n",
    "from azure.ai.translation.text.models import InputTextItem\n",
    "from azure.core.exceptions import HttpResponseError\n",
    "\n",
    "# set `<your-key>`, `<your-endpoint>`, and  `<region>` variables with the values from the Azure portal\n",
    "key = \"\"\n",
    "endpoint = \"\"\n",
    "region = \"\"\n",
    "\n",
    "credential = TranslatorCredential(key, region)\n",
    "text_translator = TextTranslationClient(endpoint=endpoint, credential=credential)\n",
    "\n",
    "try:\n",
    "    source_language = \"en\"\n",
    "    target_languages = [\"es\", \"jp\"]\n",
    "    input_text_elements = [ InputTextItem(text = \"This is a test\") ]\n",
    "\n",
    "    response = text_translator.translate(content = input_text_elements, to = target_languages, from_parameter = source_language)\n",
    "    translation = response[0] if response else None\n",
    "\n",
    "    if translation:\n",
    "        for translated_text in translation.translations:\n",
    "            print(f\"Text was translated to: '{translated_text.to}' and the result is: '{translated_text.text}'.\")\n",
    "\n",
    "except HttpResponseError as exception:\n",
    "    print(f\"Error Code: {exception.error.code}\")\n",
    "    print(f\"Message: {exception.error.message}\")"
   ]
  },
  {
   "cell_type": "code",
   "execution_count": null,
   "id": "0168b239-49f2-48b6-885b-b6e73540a0a6",
   "metadata": {},
   "outputs": [],
   "source": []
  }
 ],
 "metadata": {
  "kernelspec": {
   "display_name": "Python 3.10 - SDK v2",
   "language": "python",
   "name": "python310-sdkv2"
  },
  "language_info": {
   "codemirror_mode": {
    "name": "ipython",
    "version": 3
   },
   "file_extension": ".py",
   "mimetype": "text/x-python",
   "name": "python",
   "nbconvert_exporter": "python",
   "pygments_lexer": "ipython3",
   "version": "3.10.16"
  }
 },
 "nbformat": 4,
 "nbformat_minor": 5
}
